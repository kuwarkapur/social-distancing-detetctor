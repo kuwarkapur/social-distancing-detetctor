{
 "cells": [
  {
   "cell_type": "markdown",
   "metadata": {},
   "source": [
    "# Social Distance Detection using scipy.spatial and OpenCV"
   ]
  },
  {
   "cell_type": "markdown",
   "metadata": {},
   "source": [
    "#  Importing libraries and ssd_mobilenet_v3 configs"
   ]
  },
  {
   "cell_type": "code",
   "execution_count": 10,
   "metadata": {},
   "outputs": [],
   "source": [
    "import cv2 \n",
    "import matplotlib.pyplot as plt\n",
    "from scipy.spatial import distance as dist"
   ]
  },
  {
   "cell_type": "code",
   "execution_count": 11,
   "metadata": {},
   "outputs": [],
   "source": [
    "model='frozen_inference_graph.pb'\n",
    "config='ssd_mobilenet_v3_large_coco_2020_01_14.pbtxt.txt'\n",
    "labels=[]\n",
    "models=cv2.dnn_DetectionModel(model,config)"
   ]
  },
  {
   "cell_type": "code",
   "execution_count": 12,
   "metadata": {},
   "outputs": [],
   "source": [
    "file='coco.txt'\n",
    "with open(file,'r') as fp:\n",
    "    labels=fp.read().rstrip('\\n').split('\\n')\n",
    "    if labels=='person':\n",
    "        label='person'"
   ]
  },
  {
   "cell_type": "code",
   "execution_count": 13,
   "metadata": {},
   "outputs": [
    {
     "name": "stdout",
     "output_type": "stream",
     "text": [
      "['person', 'bicycle', 'car', 'motorbike', 'aeroplane', 'bus', 'train', 'truck', 'boat', 'traffic light', 'fire hydrant', 'stop sign', 'parking meter', 'bench', 'bird', 'cat', 'dog', 'horse', 'sheep', 'cow', 'elephant', 'bear', 'zebra', 'giraffe', 'backpack', 'umbrella', 'handbag', 'tie', 'suitcase', 'frisbee', 'skis', 'snowboard', 'sports ball', 'kite', 'baseball bat', 'baseball glove', 'skateboard', 'surfboard', 'tennis racket', 'bottle', 'wine glass', 'cup', 'fork', 'knife', 'spoon', 'bowl', 'banana', 'apple', 'sandwich', 'orange', 'broccoli', 'carrot', 'hot dog', 'pizza', 'donut', 'cake', 'chair', 'sofa', 'pottedplant', 'bed', 'diningtable', 'toilet', 'tvmonitor', 'laptop', 'mouse', 'remote', 'keyboard', 'cell phone', 'microwave', 'oven', 'toaster', 'sink', 'refrigerator', 'book', 'clock', 'vase', 'scissors', 'teddy bear', 'hair drier', 'toothbrush']\n"
     ]
    },
    {
     "data": {
      "text/plain": [
       "80"
      ]
     },
     "execution_count": 13,
     "metadata": {},
     "output_type": "execute_result"
    }
   ],
   "source": [
    "print(labels)\n",
    "len(labels)"
   ]
  },
  {
   "cell_type": "markdown",
   "metadata": {},
   "source": [
    "# initialising the model's configuration"
   ]
  },
  {
   "cell_type": "code",
   "execution_count": 14,
   "metadata": {},
   "outputs": [
    {
     "data": {
      "text/plain": [
       "<dnn_Model 0000020D017ED2F0>"
      ]
     },
     "execution_count": 14,
     "metadata": {},
     "output_type": "execute_result"
    }
   ],
   "source": [
    "models.setInputScale(1.0/127.5)\n",
    "models.setInputSize(320,320)\n",
    "models.setInputMean((127.5,127.5,127.5))\n",
    "models.setInputSwapRB(True)"
   ]
  },
  {
   "cell_type": "markdown",
   "metadata": {},
   "source": [
    "# in this section we are observing the video and storing the information regarding people's coordinates "
   ]
  },
  {
   "cell_type": "code",
   "execution_count": 15,
   "metadata": {},
   "outputs": [],
   "source": [
    "violate=set()\n",
    "listy=[]\n",
    "cam =cv2.VideoCapture(\"CCTV_demo.mp4\")\n",
    "if not cam.isOpened():\n",
    "    cam =cv2.VideoCapture(\"CCTV_demo.mp4\")\n",
    "    if not cam.isOpened():\n",
    "        print('error in camera')\n",
    "while(True):\n",
    "    ret,frame=cam.read()\n",
    "    Classind ,confidence, blob = models.detect(frame,confThreshold=0.6)\n",
    "    #print( Classind )\n",
    "    if (len(Classind)!=0):\n",
    "        for Class,conf,bl in zip(Classind.flatten(),confidence.flatten(),blob):\n",
    "            if Class==1:\n",
    "                listy.append(bl)\n",
    "                cv2.rectangle(frame,bl,(255,0,0),3)\n",
    "                cv2.putText(frame,labels[Class-1],(bl[0]+10,bl[1]+40),4,1,250,4)\n",
    "    cv2.imshow('frame',frame)\n",
    "    if cv2.waitKey(2) & 0xFF ==ord('q'):\n",
    "\n",
    "        break\n",
    "\n",
    "        \n",
    "cam.release()\n",
    "cv2.destroyAllWindows()\n",
    "        \n",
    "        "
   ]
  },
  {
   "cell_type": "markdown",
   "metadata": {},
   "source": [
    "# in this section we are calculating the distance through euclidean distance "
   ]
  },
  {
   "cell_type": "code",
   "execution_count": 16,
   "metadata": {},
   "outputs": [],
   "source": [
    "centroid=[]\n",
    "results=[]\n",
    "MIN_DISTANCE= 50\n",
    "for i in range(len(listy)):\n",
    "    x=listy[i][0]  \n",
    "    y=listy[i][1]\n",
    "    w=listy[i][2]\n",
    "    h=listy[i][3]\n",
    "    centroid.append([x,y])\n",
    "    r= ((x, y, x + w, y + h), centroid[i])\n",
    "    results.append(r)\n",
    "                #v2.rectangle(frame,bl,(255,0,0),3)\n",
    "               #cv2.putText(frame,labels[Class-1],(bl[0]+10,bl[1]+40),1,1,250,4)\n",
    "                \n",
    "    #2.imshow('frame',frame)\n",
    "D = dist.cdist(centroid, centroid, metric=\"euclidean\")\n",
    "\n",
    "     #oop over the upper triangular of the distance matrix\n",
    "for i in range(0, D.shape[0]):\n",
    "    for j in range(i + 1, D.shape[1]):\n",
    "        if D[i, j] < MIN_DISTANCE:\n",
    "            # update our violation set with the indexes of\n",
    "            # the centroid pairs\n",
    "            violate.add(D[i,j])\n",
    "             \n",
    "        "
   ]
  },
  {
   "cell_type": "markdown",
   "metadata": {},
   "source": [
    "# THE FINAL OUTPUT AND SOCIAL DISTANCING VOILATION COUNTER"
   ]
  },
  {
   "cell_type": "code",
   "execution_count": 18,
   "metadata": {},
   "outputs": [],
   "source": [
    "output1 = \"Output_file.avi\"\n",
    "cam =cv2.VideoCapture(\"CCTV_demo.mp4\")\n",
    "if not cam.isOpened():\n",
    "    cam =cv2.VideoCapture(\"CCTV_demo.mp4\")\n",
    "    if not cam.isOpened():\n",
    "        print('error in camera')\n",
    "while(True):\n",
    "    ret,frame=cam.read()\n",
    "    Classind ,confidence, blob = models.detect(frame,confThreshold=0.6)\n",
    "    result=zip(Classind.flatten(),confidence.flatten(),blob)\n",
    "    for (i,(Class,conf,bl)) in enumerate(result):\n",
    "        if Class==1:\n",
    "            color = (0, 255, 0)\n",
    "            if i in violate:\n",
    "                color = (0, 0, 255)\n",
    "            cv2.rectangle(frame,bl,color,3)\n",
    "            #cv2.circle(frame, centroid[i], 5, color, 1)\n",
    "            cv2.putText(frame,labels[Class-1],(bl[0]+10,bl[1]+40),4,1,250,4)\n",
    "               \n",
    "                \n",
    "    text = \"Social Distancing Violations: {}\".format(i)\n",
    "    cv2.putText(frame, text, (10, frame.shape[0] - 25), cv2.FONT_HERSHEY_SIMPLEX, 0.85, (0, 0, 255), 3)\n",
    "\n",
    "        # if the index pair exists within the violation set, then\n",
    "        # update the color\n",
    "           \n",
    "    cv2.imshow('frame',frame)\n",
    "    if cv2.waitKey(2) & 0xFF ==ord('q'):\n",
    "        break\n",
    "    \n",
    "    fourcc = cv2.VideoWriter_fourcc('X','V','I','D')\n",
    "    out = cv2.VideoWriter(\"output2.avi\", fourcc, 5.0, (1280,720))\n",
    "        \n",
    "cam.release()\n",
    "cv2.destroyAllWindows()\n",
    "        \n",
    "        "
   ]
  },
  {
   "cell_type": "code",
   "execution_count": null,
   "metadata": {},
   "outputs": [],
   "source": []
  }
 ],
 "metadata": {
  "kernelspec": {
   "display_name": "Python 3",
   "language": "python",
   "name": "python3"
  },
  "language_info": {
   "codemirror_mode": {
    "name": "ipython",
    "version": 3
   },
   "file_extension": ".py",
   "mimetype": "text/x-python",
   "name": "python",
   "nbconvert_exporter": "python",
   "pygments_lexer": "ipython3",
   "version": "3.8.3"
  }
 },
 "nbformat": 4,
 "nbformat_minor": 4
}
